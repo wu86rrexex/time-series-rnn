{
  "cells": [
    {
      "cell_type": "markdown",
      "metadata": {
        "id": "bJAQ8UiL3HY0"
      },
      "source": [
        "## $\\Large{Exploratory\\; Data\\; Analysis\\; and\\; Tips}$\n",
        "\n",
        "探索性資料分析(Exploratory Data Anlysis, 簡稱EDA)是機器學習/資料科學專案中非常重要的步驟，它是透過描述性統計以及資料視覺化的方式讓我們快速瞭解資料在各個面向的狀況，以便我們找到關鍵的因素往下進行後續分析。\n",
        "\n",
        "雖然探索性資料分析非常重要，在一些絢麗的機器學習模型與技巧下卻相形失色，另外探索性資料分析也需要結合分析人員對資料的了解，所以在實務上這個步驟常被忽略或輕視。不過在使用得當的狀況下，在探索性資料分析的階段就可以找到資料中特別的資訊與重要的特徵，甚至能找出商業價值。\n",
        "\n",
        "<img src='https://drive.google.com/uc?export=view&id=12zibZ4rhDJOSNvQHWeUycluap_xRT3Rq' width=600/>"
      ]
    },
    {
      "cell_type": "markdown",
      "metadata": {
        "id": "NGNlocEv3HZC"
      },
      "source": [
        "### 本章節內容大綱\n",
        "* [統計量的使用提醒](#統計量的使用提醒)\n",
        "    - [平均數、中位數、眾數的選擇](#平均數、中位數、眾數的選擇)\n",
        "* [資料視覺化小技巧](#資料視覺化小技巧)\n",
        "    - [直方圖與箱型圖的選擇](#直方圖與箱型圖的選擇)\n",
        "    - [圓餅圖的錯誤使用範例](#圓餅圖的錯誤使用範例)\n",
        "    - [散佈圖的陷阱](#散佈圖的陷阱)\n"
      ]
    },
    {
      "cell_type": "markdown",
      "metadata": {
        "id": "F0e9BHXw3HZE"
      },
      "source": [
        "---"
      ]
    },
    {
      "cell_type": "code",
      "execution_count": null,
      "metadata": {
        "id": "gd3RhdUX3HZG"
      },
      "outputs": [],
      "source": [
        "# 載入套件\n",
        "import pandas as pd\n",
        "import numpy as np\n",
        "\n",
        "import matplotlib.pyplot as plt\n",
        "%matplotlib inline"
      ]
    },
    {
      "cell_type": "markdown",
      "metadata": {
        "id": "NBiB7WG03HZJ"
      },
      "source": [
        "<a name=\"統計量的使用提醒\"></a>\n",
        "## 統計量的使用提醒"
      ]
    },
    {
      "cell_type": "markdown",
      "metadata": {
        "id": "6wg8KQS-3HZK"
      },
      "source": [
        "<a name=\"平均數、中位數、眾數的選擇\"></a>\n",
        "- ### 平均數、中位數、眾數的選擇\n",
        "\n",
        "我們知道平均數、中位數、跟眾數都可以代表一群資料的分布集中狀況，但是這三個數值的選擇上又應該考量甚麼因素呢？\n",
        "\n",
        "<img src='https://drive.google.com/uc?export=view&id=13h3fvvuzyFb75cSdGDM07rEtpK7CuQZm' width=700/>\n",
        "\n",
        "- 偏態與集中趨勢指標的關聯\n",
        "\n",
        "<img src='https://drive.google.com/uc?export=view&id=1h4sGNy1v-TXt-kH7NxIexjMrhpY_Xe43' width=700/>\n"
      ]
    },
    {
      "cell_type": "code",
      "execution_count": null,
      "metadata": {
        "id": "9-KH7K_a3HZM"
      },
      "outputs": [],
      "source": [
        "dat = pd.read_csv('https://raw.githubusercontent.com/ogrisel/parallel_ml_tutorial/master/notebooks/titanic_train.csv')"
      ]
    },
    {
      "cell_type": "code",
      "execution_count": null,
      "metadata": {
        "id": "LhvAbnzv3HZO"
      },
      "outputs": [],
      "source": [
        "dat['Fare'].hist()"
      ]
    },
    {
      "cell_type": "code",
      "execution_count": null,
      "metadata": {
        "id": "HiD-CsJd3HZR"
      },
      "outputs": [],
      "source": [
        "fare_mean = dat['Fare'].mean()\n",
        "print(fare_mean)"
      ]
    },
    {
      "cell_type": "code",
      "execution_count": null,
      "metadata": {
        "id": "RPU_NF6x3HZT"
      },
      "outputs": [],
      "source": [
        "less_than_mean = np.mean(dat['Fare'] < fare_mean)\n",
        "print(less_than_mean)"
      ]
    },
    {
      "cell_type": "code",
      "execution_count": null,
      "metadata": {
        "id": "-moHXmbh3HZU"
      },
      "outputs": [],
      "source": [
        "fare_median = dat['Fare'].median()\n",
        "print(fare_median)"
      ]
    },
    {
      "cell_type": "markdown",
      "metadata": {
        "id": "2rPCd7xc3HZV"
      },
      "source": [
        "---\n",
        "<a name=\"資料視覺化小技巧\"></a>\n",
        "## 資料視覺化小技巧"
      ]
    },
    {
      "cell_type": "markdown",
      "metadata": {
        "id": "JXVZI84r3HZW"
      },
      "source": [
        "<a name=\"直方圖與箱型圖的選擇\"></a>\n",
        "- ### 直方圖與箱型圖的選擇\n",
        "\n",
        "在連續型變項的分布探索中我們有介紹直方圖與箱型圖兩種統計圖，在選擇上有沒有甚麼特別需要注意的地方呢？\n",
        "\n",
        "<img src='https://drive.google.com/uc?export=view&id=1IO48TSAkItnFTJnJfFLHqZ0sKcchRYBS'/>\n",
        "\n",
        "<img src='https://drive.google.com/uc?export=view&id=1XWmctXyoLdmUBOGaLDkDlC2xFzTvJESJ'/>\n"
      ]
    },
    {
      "cell_type": "markdown",
      "metadata": {
        "id": "b4A7HxFd3HZX"
      },
      "source": [
        "\n",
        "- 直方圖與箱型圖比較\n",
        "\n",
        "<img src='https://drive.google.com/uc?export=view&id=1oZXfZosuIPd9RTlzYGQDC9WeqO9QN4ba' width=700/>"
      ]
    },
    {
      "cell_type": "markdown",
      "metadata": {
        "id": "Pv-KWgiE3HZY"
      },
      "source": [
        "---\n",
        "<a name=\"圓餅圖的錯誤使用範例\"></a>\n",
        "- ### 圓餅圖的錯誤使用範例\n",
        "\n",
        "先前有說過圓餅圖有許多的限制，在這邊我們舉一些反面的實際案例讓大家看一下"
      ]
    },
    {
      "cell_type": "markdown",
      "metadata": {
        "id": "PaydoDA73HZZ"
      },
      "source": [
        "- #### 多類別的圓餅圖\n",
        "[Source](https://eagereyes.org/pie-charts)\n",
        "<img src='https://drive.google.com/uc?export=view&id=1zMjEaQM3E6g5VA0F4j996V4Y7PZsOBAS'/>"
      ]
    },
    {
      "cell_type": "markdown",
      "metadata": {
        "id": "NVWOJu_R3HZZ"
      },
      "source": [
        "- #### 圓餅圖的比較\n",
        "[Source](https://eagereyes.org/pie-charts)\n",
        "<img src='https://drive.google.com/uc?export=view&id=1pnIJ_cR3EfFGRRzl0EkRxQAOQpVhaUxS'/>"
      ]
    },
    {
      "cell_type": "markdown",
      "metadata": {
        "id": "-3sMqhmu3HZa"
      },
      "source": [
        "- #### 3D造成的視覺效果\n",
        "[Source](https://eagereyes.org/pie-charts)\n",
        "<img src='https://drive.google.com/uc?export=view&id=1KogB24IQQXjDJmFkm2Jt0JbdALaxBrWE' width = 700/>"
      ]
    },
    {
      "cell_type": "markdown",
      "metadata": {
        "id": "Uh9_2rxk3HZb"
      },
      "source": [
        "---\n",
        "<a name=\"散佈圖的陷阱\"></a>\n",
        "- ### 散佈圖的陷阱\n",
        "\n",
        "在探討兩個數值變項的關聯時，我們很常會直接使用散佈圖來直接觀察，但散佈圖可不可能有時也會誤導我們？"
      ]
    },
    {
      "cell_type": "code",
      "execution_count": null,
      "metadata": {
        "id": "cKsuLxhJ3HZb"
      },
      "outputs": [],
      "source": [
        "#upload boston_house.csv\n",
        "!gdown --id 14KQIUlI-uvixIG5OB-Hl8qRRX70Ata2h\n",
        "dat = pd.read_csv('boston_house.csv')\n",
        "dat.head()"
      ]
    },
    {
      "cell_type": "markdown",
      "metadata": {
        "id": "naQkNjgi3HZc"
      },
      "source": [
        "- #### Pseudo-continuous variable"
      ]
    },
    {
      "cell_type": "code",
      "execution_count": null,
      "metadata": {
        "id": "3CL2QlCA3HZd"
      },
      "outputs": [],
      "source": [
        "plt.scatter(dat['CHAS'], dat['NOX'])\n",
        "plt.xlabel('CHAS')\n",
        "plt.ylabel('NOX')\n",
        "plt.show()"
      ]
    },
    {
      "cell_type": "code",
      "execution_count": null,
      "metadata": {
        "id": "kshpykk43HZe"
      },
      "outputs": [],
      "source": [
        "# 較好的做法是使用群組的箱型圖做比較\n",
        "dat.boxplot('NOX', by='CHAS')"
      ]
    },
    {
      "cell_type": "markdown",
      "metadata": {
        "id": "KLW-_Mrr3HZf"
      },
      "source": [
        "- #### Overlapping points"
      ]
    },
    {
      "cell_type": "code",
      "execution_count": null,
      "metadata": {
        "id": "KQc0Yrj-3HZf"
      },
      "outputs": [],
      "source": [
        "plt.scatter(dat['TAX'], dat['RAD'])\n",
        "plt.xlabel('TAX')\n",
        "plt.ylabel('RAD')\n",
        "plt.show()"
      ]
    },
    {
      "cell_type": "code",
      "execution_count": null,
      "metadata": {
        "id": "q_1co30V3HZg"
      },
      "outputs": [],
      "source": [
        "plt.hist(dat['TAX'], bins=20)\n",
        "plt.show()"
      ]
    },
    {
      "cell_type": "code",
      "execution_count": null,
      "metadata": {
        "id": "TFQoNERv3HZh"
      },
      "outputs": [],
      "source": [
        "# 調整透明度參數使資料分布較明顯\n",
        "\n",
        "plt.scatter(dat['TAX'], dat['RAD'], alpha=0.1)\n",
        "plt.xlabel('TAX')\n",
        "plt.ylabel('RAD')\n",
        "plt.show()"
      ]
    },
    {
      "cell_type": "markdown",
      "metadata": {
        "id": "32ZJtNt23HZh"
      },
      "source": [
        "---\n",
        "\n",
        "- ## 小結\n",
        "\n",
        "在資料的視覺化上，其實還有很多需要注意的地方，未來大家在進行資料探索時請務必記得多方面交叉比較資訊是否一致。 另外，雖然很多圖形非常的絢麗美觀，但在資訊的呈現上其實基本的統計圖表並不輸給它們，在決定選用何種圖形前可以先思考一下目前想呈現的資訊為何，才能選擇到適合的圖形唷。"
      ]
    }
  ],
  "metadata": {
    "colab": {
      "name": "Exploratory_Data_Analysis_and_Tips.ipynb",
      "provenance": []
    },
    "kernelspec": {
      "display_name": "Python 3 (ipykernel)",
      "language": "python",
      "name": "python3"
    },
    "language_info": {
      "codemirror_mode": {
        "name": "ipython",
        "version": 3
      },
      "file_extension": ".py",
      "mimetype": "text/x-python",
      "name": "python",
      "nbconvert_exporter": "python",
      "pygments_lexer": "ipython3",
      "version": "3.7.10"
    }
  },
  "nbformat": 4,
  "nbformat_minor": 0
}